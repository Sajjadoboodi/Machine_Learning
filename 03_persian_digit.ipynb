{
 "cells": [
  {
   "cell_type": "code",
   "execution_count": 85,
   "id": "1941003f",
   "metadata": {},
   "outputs": [
    {
     "name": "stdout",
     "output_type": "stream",
     "text": [
      "Requirement already satisfied: scipy in c:\\users\\sajad\\.conda\\envs\\ml_course_403_2\\lib\\site-packages (1.15.2)\n",
      "Requirement already satisfied: numpy<2.5,>=1.23.5 in c:\\users\\sajad\\.conda\\envs\\ml_course_403_2\\lib\\site-packages (from scipy) (2.2.4)\n"
     ]
    }
   ],
   "source": [
    "! pip install scipy"
   ]
  },
  {
   "cell_type": "code",
   "execution_count": 86,
   "id": "eba522f3",
   "metadata": {},
   "outputs": [],
   "source": [
    "import numpy as np\n",
    "from scipy import io\n",
    "import matplotlib.pyplot as plt\n",
    "import cv2"
   ]
  },
  {
   "cell_type": "code",
   "execution_count": 87,
   "id": "2dfb6fea",
   "metadata": {},
   "outputs": [],
   "source": [
    "dataset = io.loadmat(\n",
    "    r\"C:\\Users\\sajad\\VSCode\\Machine_Learning\\Machine_Learning\\Data_hoda_full.mat\"\n",
    ")"
   ]
  },
  {
   "cell_type": "code",
   "execution_count": 88,
   "id": "f869561d",
   "metadata": {},
   "outputs": [
    {
     "data": {
      "text/plain": [
       "{'__header__': b'MATLAB 5.0 MAT-file, Platform: PCWIN64, Created on: Thu Jun 30 20:26:30 2011',\n",
       " '__version__': '1.0',\n",
       " '__globals__': [],\n",
       " 'Data': array([[array([[  0,   0,   0,   0, 255, 255,   0,   0,   0,   0,   0,   0,   0,\n",
       "                   0,   0,   0,   0,   0,   0,   0],\n",
       "                [  0,   0,   0, 255, 255, 255, 255,   0,   0,   0,   0,   0,   0,\n",
       "                   0,   0,   0,   0,   0,   0,   0],\n",
       "                [  0,   0, 255, 255, 255, 255, 255,   0,   0,   0,   0,   0,   0,\n",
       "                   0,   0,   0,   0, 255, 255,   0],\n",
       "                [  0, 255, 255, 255, 255, 255,   0,   0,   0,   0,   0,   0,   0,\n",
       "                   0,   0,   0, 255, 255, 255, 255],\n",
       "                [  0, 255, 255, 255, 255,   0,   0,   0,   0,   0,   0,   0,   0,\n",
       "                   0,   0, 255, 255, 255, 255,   0],\n",
       "                [  0, 255, 255, 255,   0,   0,   0,   0,   0,   0,   0,   0,   0,\n",
       "                   0, 255, 255, 255, 255, 255,   0],\n",
       "                [255, 255, 255, 255,   0,   0,   0,   0,   0,   0,   0,   0,   0,\n",
       "                 255, 255, 255, 255, 255,   0,   0],\n",
       "                [255, 255, 255,   0,   0,   0,   0,   0,   0,   0,   0,   0, 255,\n",
       "                 255, 255, 255, 255,   0,   0,   0],\n",
       "                [255, 255, 255,   0,   0,   0,   0,   0,   0,   0, 255, 255, 255,\n",
       "                 255, 255, 255, 255,   0,   0,   0],\n",
       "                [255, 255, 255,   0,   0,   0,   0,   0,   0, 255, 255, 255, 255,\n",
       "                 255, 255, 255,   0,   0,   0,   0],\n",
       "                [255, 255, 255, 255, 255, 255, 255, 255, 255, 255, 255, 255, 255,\n",
       "                 255, 255,   0,   0,   0,   0,   0],\n",
       "                [255, 255, 255, 255, 255, 255, 255, 255, 255, 255, 255, 255, 255,\n",
       "                 255,   0,   0,   0,   0,   0,   0],\n",
       "                [  0, 255, 255, 255, 255, 255, 255, 255, 255, 255, 255, 255, 255,\n",
       "                   0,   0,   0,   0,   0,   0,   0],\n",
       "                [  0,   0,   0,   0, 255, 255, 255, 255, 255, 255, 255, 255, 255,\n",
       "                   0,   0,   0,   0,   0,   0,   0],\n",
       "                [  0,   0,   0,   0,   0,   0,   0, 255, 255, 255, 255, 255,   0,\n",
       "                   0,   0,   0,   0,   0,   0,   0],\n",
       "                [  0,   0,   0,   0,   0,   0,   0, 255, 255, 255, 255,   0,   0,\n",
       "                   0,   0,   0,   0,   0,   0,   0],\n",
       "                [  0,   0,   0,   0,   0,   0, 255, 255, 255, 255, 255,   0,   0,\n",
       "                   0,   0,   0,   0,   0,   0,   0],\n",
       "                [  0,   0,   0,   0,   0,   0, 255, 255, 255, 255,   0,   0,   0,\n",
       "                   0,   0,   0,   0,   0,   0,   0],\n",
       "                [  0,   0,   0,   0,   0, 255, 255, 255, 255, 255,   0,   0,   0,\n",
       "                   0,   0,   0,   0,   0,   0,   0],\n",
       "                [  0,   0,   0,   0,   0, 255, 255, 255, 255,   0,   0,   0,   0,\n",
       "                   0,   0,   0,   0,   0,   0,   0],\n",
       "                [  0,   0,   0,   0,   0, 255, 255, 255, 255,   0,   0,   0,   0,\n",
       "                   0,   0,   0,   0,   0,   0,   0],\n",
       "                [  0,   0,   0,   0,   0, 255, 255, 255, 255,   0,   0,   0,   0,\n",
       "                   0,   0,   0,   0,   0,   0,   0],\n",
       "                [  0,   0,   0,   0,   0, 255, 255, 255,   0,   0,   0,   0,   0,\n",
       "                   0,   0,   0,   0,   0,   0,   0],\n",
       "                [  0,   0,   0,   0, 255, 255, 255, 255,   0,   0,   0,   0,   0,\n",
       "                   0,   0,   0,   0,   0,   0,   0],\n",
       "                [  0,   0,   0,   0, 255, 255, 255, 255,   0,   0,   0,   0,   0,\n",
       "                   0,   0,   0,   0,   0,   0,   0],\n",
       "                [  0,   0,   0,   0, 255, 255, 255,   0,   0,   0,   0,   0,   0,\n",
       "                   0,   0,   0,   0,   0,   0,   0],\n",
       "                [  0,   0,   0,   0,   0, 255, 255,   0,   0,   0,   0,   0,   0,\n",
       "                   0,   0,   0,   0,   0,   0,   0]], dtype=uint8)               ],\n",
       "        [array([[  0,   0,   0,   0,   0,   0,   0,   0,   0,   0, 255, 255,   0,\n",
       "                   0,   0,   0,   0,   0,   0,   0,   0],\n",
       "                [  0,   0,   0,   0,   0,   0,   0,   0,   0, 255, 255, 255, 255,\n",
       "                   0,   0,   0,   0,   0,   0,   0,   0],\n",
       "                [  0,   0,   0,   0,   0,   0,   0,   0, 255, 255, 255, 255, 255,\n",
       "                 255,   0,   0,   0,   0,   0,   0,   0],\n",
       "                [  0,   0,   0,   0,   0,   0,   0,   0, 255, 255, 255, 255, 255,\n",
       "                 255, 255,   0,   0,   0,   0,   0,   0],\n",
       "                [  0,   0,   0,   0,   0,   0, 255, 255, 255, 255, 255, 255, 255,\n",
       "                 255, 255,   0,   0,   0,   0,   0,   0],\n",
       "                [  0,   0,   0,   0,   0, 255, 255, 255, 255, 255, 255, 255, 255,\n",
       "                 255, 255, 255,   0,   0,   0,   0,   0],\n",
       "                [  0,   0,   0,   0, 255, 255, 255, 255, 255,   0,   0,   0,   0,\n",
       "                 255, 255, 255, 255,   0,   0,   0,   0],\n",
       "                [  0,   0,   0,   0, 255, 255, 255, 255,   0,   0,   0,   0,   0,\n",
       "                   0, 255, 255, 255,   0,   0,   0,   0],\n",
       "                [  0,   0,   0, 255, 255, 255, 255,   0,   0,   0,   0,   0,   0,\n",
       "                   0,   0, 255, 255, 255,   0,   0,   0],\n",
       "                [  0,   0, 255, 255, 255, 255,   0,   0,   0,   0,   0,   0,   0,\n",
       "                   0,   0, 255, 255, 255, 255,   0,   0],\n",
       "                [  0, 255, 255, 255, 255, 255,   0,   0,   0,   0,   0,   0,   0,\n",
       "                   0,   0, 255, 255, 255, 255, 255,   0],\n",
       "                [  0, 255, 255, 255, 255,   0,   0,   0,   0,   0,   0,   0,   0,\n",
       "                   0,   0,   0, 255, 255, 255, 255,   0],\n",
       "                [255, 255, 255, 255,   0,   0,   0,   0,   0,   0,   0, 255, 255,\n",
       "                   0,   0,   0,   0, 255, 255, 255, 255],\n",
       "                [255, 255, 255, 255,   0,   0,   0,   0,   0,   0, 255, 255, 255,\n",
       "                 255,   0,   0,   0, 255, 255, 255, 255],\n",
       "                [255, 255, 255,   0,   0,   0,   0,   0,   0, 255, 255, 255, 255,\n",
       "                 255,   0,   0,   0, 255, 255, 255, 255],\n",
       "                [255, 255, 255,   0,   0,   0,   0,   0,   0, 255, 255, 255, 255,\n",
       "                 255,   0,   0,   0, 255, 255, 255, 255],\n",
       "                [255, 255, 255,   0,   0,   0,   0,   0, 255, 255, 255, 255, 255,\n",
       "                 255, 255,   0, 255, 255, 255, 255,   0],\n",
       "                [  0, 255,   0,   0,   0,   0, 255, 255, 255, 255, 255, 255, 255,\n",
       "                 255, 255, 255, 255, 255, 255, 255,   0],\n",
       "                [  0,   0,   0,   0,   0, 255, 255, 255, 255, 255, 255, 255, 255,\n",
       "                 255,   0, 255, 255, 255, 255,   0,   0],\n",
       "                [  0,   0,   0,   0, 255, 255, 255, 255, 255,   0,   0,   0,   0,\n",
       "                   0,   0,   0,   0,   0,   0,   0,   0]], dtype=uint8)          ],\n",
       "        [array([[  0, 255, 255, 255, 255, 255, 255, 255, 255,   0,   0,   0, 255,\n",
       "                 255,   0],\n",
       "                [  0, 255, 255, 255, 255, 255, 255, 255, 255, 255, 255, 255, 255,\n",
       "                 255,   0],\n",
       "                [255, 255, 255, 255, 255, 255, 255, 255, 255, 255, 255, 255, 255,\n",
       "                 255, 255],\n",
       "                [255, 255, 255, 255, 255,   0, 255, 255, 255,   0, 255, 255, 255,\n",
       "                 255, 255],\n",
       "                [255, 255, 255, 255,   0,   0,   0,   0,   0,   0, 255, 255, 255,\n",
       "                 255, 255],\n",
       "                [255, 255, 255, 255, 255, 255, 255, 255, 255, 255, 255, 255, 255,\n",
       "                 255, 255],\n",
       "                [255, 255, 255, 255, 255, 255, 255, 255, 255, 255, 255, 255, 255,\n",
       "                 255,   0],\n",
       "                [  0, 255, 255, 255, 255, 255, 255, 255, 255, 255, 255, 255, 255,\n",
       "                 255,   0],\n",
       "                [  0,   0, 255, 255, 255, 255, 255, 255, 255, 255, 255, 255, 255,\n",
       "                   0,   0],\n",
       "                [  0,   0,   0,   0, 255,   0, 255, 255, 255,   0,   0,   0,   0,\n",
       "                   0,   0]], dtype=uint8)                                        ],\n",
       "        ...,\n",
       "        [array([[  0, 255, 255, 255,   0,   0,   0,   0,   0,   0,   0,   0, 255,\n",
       "                 255,   0],\n",
       "                [255, 255, 255, 255,   0,   0,   0,   0,   0,   0,   0,   0, 255,\n",
       "                 255, 255],\n",
       "                [  0, 255, 255, 255, 255,   0,   0,   0,   0,   0,   0,   0, 255,\n",
       "                 255, 255],\n",
       "                [  0, 255, 255, 255, 255,   0,   0,   0,   0,   0,   0, 255, 255,\n",
       "                 255, 255],\n",
       "                [  0, 255, 255, 255, 255, 255,   0,   0,   0,   0,   0, 255, 255,\n",
       "                 255, 255],\n",
       "                [  0, 255, 255, 255, 255, 255,   0,   0, 255, 255, 255, 255, 255,\n",
       "                 255,   0],\n",
       "                [  0,   0, 255, 255, 255, 255, 255, 255, 255, 255, 255, 255, 255,\n",
       "                   0,   0],\n",
       "                [  0,   0, 255, 255, 255, 255, 255, 255, 255, 255, 255,   0,   0,\n",
       "                   0,   0],\n",
       "                [  0,   0, 255, 255, 255, 255,   0,   0,   0,   0,   0,   0,   0,\n",
       "                   0,   0],\n",
       "                [  0,   0, 255, 255, 255, 255,   0,   0,   0,   0,   0,   0,   0,\n",
       "                   0,   0],\n",
       "                [  0,   0, 255, 255, 255, 255,   0,   0,   0,   0,   0,   0,   0,\n",
       "                   0,   0],\n",
       "                [  0,   0, 255, 255, 255, 255,   0,   0,   0,   0,   0,   0,   0,\n",
       "                   0,   0],\n",
       "                [  0,   0, 255, 255, 255, 255,   0,   0,   0,   0,   0,   0,   0,\n",
       "                   0,   0],\n",
       "                [  0,   0, 255, 255, 255, 255,   0,   0,   0,   0,   0,   0,   0,\n",
       "                   0,   0],\n",
       "                [  0,   0, 255, 255, 255, 255,   0,   0,   0,   0,   0,   0,   0,\n",
       "                   0,   0],\n",
       "                [  0,   0, 255, 255, 255, 255,   0,   0,   0,   0,   0,   0,   0,\n",
       "                   0,   0],\n",
       "                [  0,   0,   0, 255, 255, 255,   0,   0,   0,   0,   0,   0,   0,\n",
       "                   0,   0],\n",
       "                [  0,   0,   0, 255, 255, 255,   0,   0,   0,   0,   0,   0,   0,\n",
       "                   0,   0],\n",
       "                [  0,   0,   0, 255, 255, 255,   0,   0,   0,   0,   0,   0,   0,\n",
       "                   0,   0],\n",
       "                [  0,   0,   0,   0, 255, 255, 255,   0,   0,   0,   0,   0,   0,\n",
       "                   0,   0],\n",
       "                [  0,   0,   0,   0, 255, 255, 255,   0,   0,   0,   0,   0,   0,\n",
       "                   0,   0],\n",
       "                [  0,   0,   0, 255, 255, 255, 255,   0,   0,   0,   0,   0,   0,\n",
       "                   0,   0],\n",
       "                [  0,   0,   0,   0, 255, 255, 255, 255,   0,   0,   0,   0,   0,\n",
       "                   0,   0],\n",
       "                [  0,   0,   0,   0,   0, 255, 255, 255,   0,   0,   0,   0,   0,\n",
       "                   0,   0],\n",
       "                [  0,   0,   0,   0,   0,   0,   0, 255,   0,   0,   0,   0,   0,\n",
       "                   0,   0]], dtype=uint8)                                        ],\n",
       "        [array([[  0,   0,   0,   0,   0,   0, 255, 255, 255,   0,   0,   0,   0,\n",
       "                   0,   0,   0,   0,   0],\n",
       "                [  0,   0,   0,   0,   0,   0, 255, 255, 255, 255,   0,   0,   0,\n",
       "                   0,   0,   0,   0,   0],\n",
       "                [  0,   0,   0,   0,   0, 255, 255, 255, 255, 255,   0,   0,   0,\n",
       "                   0,   0,   0,   0,   0],\n",
       "                [  0,   0,   0,   0,   0, 255, 255, 255, 255,   0,   0,   0,   0,\n",
       "                   0,   0,   0,   0,   0],\n",
       "                [  0,   0,   0,   0,   0, 255, 255,   0,   0,   0,   0,   0,   0,\n",
       "                   0,   0,   0,   0,   0],\n",
       "                [  0,   0,   0,   0,   0, 255, 255,   0,   0,   0,   0,   0,   0,\n",
       "                   0,   0,   0, 255, 255],\n",
       "                [  0,   0,   0,   0, 255, 255, 255,   0,   0,   0,   0,   0,   0,\n",
       "                   0,   0,   0, 255, 255],\n",
       "                [  0,   0,   0,   0, 255, 255, 255,   0,   0,   0,   0,   0,   0,\n",
       "                   0,   0, 255, 255, 255],\n",
       "                [  0,   0,   0, 255, 255, 255, 255,   0,   0,   0,   0,   0,   0,\n",
       "                   0,   0, 255, 255, 255],\n",
       "                [  0,   0,   0, 255, 255, 255, 255,   0,   0,   0,   0,   0,   0,\n",
       "                   0, 255, 255, 255,   0],\n",
       "                [  0,   0,   0, 255, 255, 255,   0,   0,   0,   0,   0,   0,   0,\n",
       "                 255, 255, 255, 255,   0],\n",
       "                [  0,   0,   0, 255, 255, 255,   0,   0,   0,   0,   0, 255, 255,\n",
       "                 255, 255, 255,   0,   0],\n",
       "                [  0,   0,   0, 255, 255, 255,   0,   0,   0,   0,   0, 255, 255,\n",
       "                 255, 255,   0,   0,   0],\n",
       "                [  0,   0,   0,   0, 255, 255, 255,   0,   0,   0, 255, 255, 255,\n",
       "                 255,   0,   0,   0,   0],\n",
       "                [  0,   0,   0,   0, 255, 255, 255, 255, 255, 255, 255, 255, 255,\n",
       "                 255,   0,   0,   0,   0],\n",
       "                [  0,   0,   0,   0, 255, 255, 255, 255, 255, 255, 255, 255, 255,\n",
       "                   0,   0,   0,   0,   0],\n",
       "                [  0,   0,   0,   0,   0, 255, 255, 255, 255, 255, 255, 255,   0,\n",
       "                   0,   0,   0,   0,   0],\n",
       "                [  0,   0,   0,   0,   0,   0, 255, 255, 255, 255, 255,   0,   0,\n",
       "                   0,   0,   0,   0,   0],\n",
       "                [  0,   0,   0,   0,   0,   0,   0, 255, 255, 255,   0,   0,   0,\n",
       "                   0,   0,   0,   0,   0],\n",
       "                [  0,   0,   0,   0,   0,   0, 255, 255, 255,   0,   0,   0,   0,\n",
       "                   0,   0,   0,   0,   0],\n",
       "                [  0,   0,   0,   0,   0, 255, 255, 255, 255,   0,   0,   0,   0,\n",
       "                   0,   0,   0,   0,   0],\n",
       "                [  0,   0,   0,   0,   0, 255, 255, 255, 255,   0,   0,   0,   0,\n",
       "                   0,   0,   0,   0,   0],\n",
       "                [  0,   0,   0,   0, 255, 255, 255, 255,   0,   0,   0,   0,   0,\n",
       "                   0,   0,   0,   0,   0],\n",
       "                [  0,   0,   0, 255, 255, 255, 255,   0,   0,   0,   0,   0,   0,\n",
       "                   0,   0,   0,   0,   0],\n",
       "                [  0,   0,   0, 255, 255, 255, 255,   0,   0,   0,   0,   0,   0,\n",
       "                   0,   0,   0,   0,   0],\n",
       "                [  0,   0,   0, 255, 255, 255,   0,   0,   0,   0,   0,   0,   0,\n",
       "                   0,   0,   0,   0,   0],\n",
       "                [  0,   0, 255, 255, 255, 255,   0,   0,   0,   0,   0,   0,   0,\n",
       "                   0,   0,   0,   0,   0],\n",
       "                [  0,   0, 255, 255, 255,   0,   0,   0,   0,   0,   0,   0,   0,\n",
       "                   0,   0,   0,   0,   0],\n",
       "                [  0,   0, 255, 255, 255,   0,   0,   0,   0,   0,   0,   0,   0,\n",
       "                   0,   0,   0,   0,   0],\n",
       "                [  0, 255, 255, 255,   0,   0,   0,   0,   0,   0,   0,   0,   0,\n",
       "                   0,   0,   0,   0,   0],\n",
       "                [255, 255, 255,   0,   0,   0,   0,   0,   0,   0,   0,   0,   0,\n",
       "                   0,   0,   0,   0,   0],\n",
       "                [255, 255, 255,   0,   0,   0,   0,   0,   0,   0,   0,   0,   0,\n",
       "                   0,   0,   0,   0,   0],\n",
       "                [255, 255, 255,   0,   0,   0,   0,   0,   0,   0,   0,   0,   0,\n",
       "                   0,   0,   0,   0,   0],\n",
       "                [255, 255, 255,   0,   0,   0,   0,   0,   0,   0,   0,   0,   0,\n",
       "                   0,   0,   0,   0,   0],\n",
       "                [255, 255, 255, 255,   0,   0,   0,   0,   0,   0,   0,   0,   0,\n",
       "                   0,   0,   0,   0,   0]], dtype=uint8)                         ],\n",
       "        [array([[  0,   0,   0,   0, 255, 255, 255, 255, 255, 255, 255, 255,   0,\n",
       "                   0,   0,   0,   0,   0,   0,   0, 255, 255, 255, 255, 255],\n",
       "                [  0,   0, 255, 255, 255, 255, 255, 255, 255, 255, 255, 255,   0,\n",
       "                   0,   0,   0,   0,   0,   0, 255, 255, 255, 255, 255, 255],\n",
       "                [  0,   0, 255, 255, 255, 255, 255,   0, 255, 255, 255,   0,   0,\n",
       "                   0,   0,   0,   0,   0,   0, 255, 255, 255, 255, 255, 255],\n",
       "                [  0, 255, 255, 255, 255, 255,   0,   0, 255, 255, 255,   0,   0,\n",
       "                   0,   0,   0,   0,   0, 255, 255, 255, 255, 255, 255, 255],\n",
       "                [  0, 255, 255, 255, 255,   0,   0,   0,   0,   0,   0,   0,   0,\n",
       "                   0,   0,   0,   0,   0, 255, 255, 255, 255, 255, 255,   0],\n",
       "                [255, 255, 255, 255,   0,   0,   0,   0,   0,   0,   0,   0,   0,\n",
       "                   0,   0,   0,   0,   0, 255, 255, 255, 255, 255,   0,   0],\n",
       "                [255, 255, 255, 255, 255,   0,   0,   0,   0,   0,   0,   0,   0,\n",
       "                   0,   0,   0,   0, 255, 255, 255, 255, 255, 255,   0,   0],\n",
       "                [255, 255, 255, 255, 255,   0,   0,   0,   0,   0,   0,   0,   0,\n",
       "                   0,   0,   0,   0, 255, 255, 255, 255, 255, 255,   0,   0],\n",
       "                [  0, 255, 255, 255,   0,   0,   0,   0,   0,   0,   0,   0,   0,\n",
       "                   0,   0,   0, 255, 255, 255, 255, 255, 255, 255,   0,   0],\n",
       "                [  0, 255, 255, 255, 255,   0,   0,   0,   0,   0,   0,   0,   0,\n",
       "                   0,   0, 255, 255, 255, 255, 255, 255, 255, 255,   0,   0],\n",
       "                [255, 255, 255, 255, 255,   0,   0,   0,   0,   0,   0,   0,   0,\n",
       "                   0, 255, 255, 255, 255, 255, 255, 255, 255, 255,   0,   0],\n",
       "                [255, 255, 255, 255, 255,   0,   0,   0,   0,   0,   0,   0,   0,\n",
       "                 255, 255, 255, 255, 255, 255, 255, 255, 255,   0,   0,   0],\n",
       "                [  0, 255, 255, 255, 255, 255, 255, 255, 255,   0,   0, 255, 255,\n",
       "                 255, 255, 255, 255, 255, 255, 255, 255, 255,   0,   0,   0],\n",
       "                [  0, 255, 255, 255, 255, 255, 255, 255, 255, 255, 255, 255, 255,\n",
       "                 255, 255, 255, 255, 255, 255, 255, 255, 255,   0,   0,   0],\n",
       "                [  0,   0, 255, 255, 255, 255, 255, 255, 255, 255, 255, 255, 255,\n",
       "                 255, 255,   0,   0, 255, 255, 255, 255,   0,   0,   0,   0],\n",
       "                [  0,   0,   0, 255, 255, 255, 255, 255, 255, 255, 255, 255, 255,\n",
       "                 255,   0,   0,   0, 255, 255, 255, 255,   0,   0,   0,   0],\n",
       "                [  0,   0,   0,   0,   0, 255, 255, 255, 255, 255, 255, 255, 255,\n",
       "                   0,   0,   0,   0, 255, 255, 255, 255,   0,   0,   0,   0],\n",
       "                [  0,   0,   0,   0,   0,   0,   0,   0,   0,   0,   0,   0,   0,\n",
       "                   0,   0,   0, 255, 255, 255, 255, 255,   0,   0,   0,   0],\n",
       "                [  0,   0,   0,   0,   0,   0,   0,   0,   0,   0,   0,   0,   0,\n",
       "                   0,   0,   0, 255, 255, 255, 255, 255,   0,   0,   0,   0],\n",
       "                [  0,   0,   0,   0,   0,   0,   0,   0,   0,   0,   0,   0,   0,\n",
       "                   0,   0,   0, 255, 255, 255, 255,   0,   0,   0,   0,   0],\n",
       "                [  0,   0,   0,   0,   0,   0,   0,   0,   0,   0,   0,   0,   0,\n",
       "                   0,   0,   0, 255, 255, 255, 255,   0,   0,   0,   0,   0],\n",
       "                [  0,   0,   0,   0,   0,   0,   0,   0,   0,   0,   0,   0,   0,\n",
       "                   0,   0, 255, 255, 255, 255, 255,   0,   0,   0,   0,   0],\n",
       "                [  0,   0,   0,   0,   0,   0,   0,   0,   0,   0,   0,   0,   0,\n",
       "                   0,   0, 255, 255, 255, 255, 255,   0,   0,   0,   0,   0],\n",
       "                [  0,   0,   0,   0,   0,   0,   0,   0,   0,   0,   0,   0,   0,\n",
       "                   0,   0, 255, 255, 255, 255, 255,   0,   0,   0,   0,   0],\n",
       "                [  0,   0,   0,   0,   0,   0,   0,   0,   0,   0,   0,   0,   0,\n",
       "                   0,   0, 255, 255, 255, 255,   0,   0,   0,   0,   0,   0],\n",
       "                [  0,   0,   0,   0,   0,   0,   0,   0,   0,   0,   0,   0,   0,\n",
       "                   0,   0, 255, 255, 255, 255,   0,   0,   0,   0,   0,   0],\n",
       "                [  0,   0,   0,   0,   0,   0,   0,   0,   0,   0,   0,   0,   0,\n",
       "                   0,   0, 255, 255, 255, 255,   0,   0,   0,   0,   0,   0],\n",
       "                [  0,   0,   0,   0,   0,   0,   0,   0,   0,   0,   0,   0,   0,\n",
       "                   0,   0, 255, 255, 255, 255,   0,   0,   0,   0,   0,   0],\n",
       "                [  0,   0,   0,   0,   0,   0,   0,   0,   0,   0,   0,   0,   0,\n",
       "                   0, 255, 255, 255, 255,   0,   0,   0,   0,   0,   0,   0],\n",
       "                [  0,   0,   0,   0,   0,   0,   0,   0,   0,   0,   0,   0,   0,\n",
       "                   0, 255, 255, 255, 255,   0,   0,   0,   0,   0,   0,   0],\n",
       "                [  0,   0,   0,   0,   0,   0,   0,   0,   0,   0,   0,   0,   0,\n",
       "                   0, 255, 255, 255, 255,   0,   0,   0,   0,   0,   0,   0],\n",
       "                [  0,   0,   0,   0,   0,   0,   0,   0,   0,   0,   0,   0,   0,\n",
       "                   0, 255, 255, 255, 255,   0,   0,   0,   0,   0,   0,   0],\n",
       "                [  0,   0,   0,   0,   0,   0,   0,   0,   0,   0,   0,   0,   0,\n",
       "                   0, 255, 255, 255,   0,   0,   0,   0,   0,   0,   0,   0],\n",
       "                [  0,   0,   0,   0,   0,   0,   0,   0,   0,   0,   0,   0,   0,\n",
       "                 255, 255, 255, 255, 255,   0,   0,   0,   0,   0,   0,   0],\n",
       "                [  0,   0,   0,   0,   0,   0,   0,   0,   0,   0,   0,   0,   0,\n",
       "                   0, 255, 255, 255, 255,   0,   0,   0,   0,   0,   0,   0]],\n",
       "               dtype=uint8)                                                      ]],\n",
       "       shape=(60000, 1), dtype=object),\n",
       " 'labels': array([[6],\n",
       "        [5],\n",
       "        [0],\n",
       "        ...,\n",
       "        [2],\n",
       "        [6],\n",
       "        [6]], shape=(60000, 1), dtype=uint8)}"
      ]
     },
     "execution_count": 88,
     "metadata": {},
     "output_type": "execute_result"
    }
   ],
   "source": [
    "dataset"
   ]
  },
  {
   "cell_type": "code",
   "execution_count": 89,
   "id": "ac72da80",
   "metadata": {},
   "outputs": [
    {
     "data": {
      "text/plain": [
       "dict"
      ]
     },
     "execution_count": 89,
     "metadata": {},
     "output_type": "execute_result"
    }
   ],
   "source": [
    "type(dataset)"
   ]
  },
  {
   "cell_type": "code",
   "execution_count": 90,
   "id": "d584d470",
   "metadata": {},
   "outputs": [
    {
     "data": {
      "text/plain": [
       "(60000, 1)"
      ]
     },
     "execution_count": 90,
     "metadata": {},
     "output_type": "execute_result"
    }
   ],
   "source": [
    "dataset[\"Data\"].shape"
   ]
  },
  {
   "cell_type": "code",
   "execution_count": 91,
   "id": "557de339",
   "metadata": {},
   "outputs": [
    {
     "data": {
      "text/plain": [
       "array([[  0,   0,   0,   0, 255, 255,   0,   0,   0,   0,   0,   0,   0,\n",
       "          0,   0,   0,   0,   0,   0,   0],\n",
       "       [  0,   0,   0, 255, 255, 255, 255,   0,   0,   0,   0,   0,   0,\n",
       "          0,   0,   0,   0,   0,   0,   0],\n",
       "       [  0,   0, 255, 255, 255, 255, 255,   0,   0,   0,   0,   0,   0,\n",
       "          0,   0,   0,   0, 255, 255,   0],\n",
       "       [  0, 255, 255, 255, 255, 255,   0,   0,   0,   0,   0,   0,   0,\n",
       "          0,   0,   0, 255, 255, 255, 255],\n",
       "       [  0, 255, 255, 255, 255,   0,   0,   0,   0,   0,   0,   0,   0,\n",
       "          0,   0, 255, 255, 255, 255,   0],\n",
       "       [  0, 255, 255, 255,   0,   0,   0,   0,   0,   0,   0,   0,   0,\n",
       "          0, 255, 255, 255, 255, 255,   0],\n",
       "       [255, 255, 255, 255,   0,   0,   0,   0,   0,   0,   0,   0,   0,\n",
       "        255, 255, 255, 255, 255,   0,   0],\n",
       "       [255, 255, 255,   0,   0,   0,   0,   0,   0,   0,   0,   0, 255,\n",
       "        255, 255, 255, 255,   0,   0,   0],\n",
       "       [255, 255, 255,   0,   0,   0,   0,   0,   0,   0, 255, 255, 255,\n",
       "        255, 255, 255, 255,   0,   0,   0],\n",
       "       [255, 255, 255,   0,   0,   0,   0,   0,   0, 255, 255, 255, 255,\n",
       "        255, 255, 255,   0,   0,   0,   0],\n",
       "       [255, 255, 255, 255, 255, 255, 255, 255, 255, 255, 255, 255, 255,\n",
       "        255, 255,   0,   0,   0,   0,   0],\n",
       "       [255, 255, 255, 255, 255, 255, 255, 255, 255, 255, 255, 255, 255,\n",
       "        255,   0,   0,   0,   0,   0,   0],\n",
       "       [  0, 255, 255, 255, 255, 255, 255, 255, 255, 255, 255, 255, 255,\n",
       "          0,   0,   0,   0,   0,   0,   0],\n",
       "       [  0,   0,   0,   0, 255, 255, 255, 255, 255, 255, 255, 255, 255,\n",
       "          0,   0,   0,   0,   0,   0,   0],\n",
       "       [  0,   0,   0,   0,   0,   0,   0, 255, 255, 255, 255, 255,   0,\n",
       "          0,   0,   0,   0,   0,   0,   0],\n",
       "       [  0,   0,   0,   0,   0,   0,   0, 255, 255, 255, 255,   0,   0,\n",
       "          0,   0,   0,   0,   0,   0,   0],\n",
       "       [  0,   0,   0,   0,   0,   0, 255, 255, 255, 255, 255,   0,   0,\n",
       "          0,   0,   0,   0,   0,   0,   0],\n",
       "       [  0,   0,   0,   0,   0,   0, 255, 255, 255, 255,   0,   0,   0,\n",
       "          0,   0,   0,   0,   0,   0,   0],\n",
       "       [  0,   0,   0,   0,   0, 255, 255, 255, 255, 255,   0,   0,   0,\n",
       "          0,   0,   0,   0,   0,   0,   0],\n",
       "       [  0,   0,   0,   0,   0, 255, 255, 255, 255,   0,   0,   0,   0,\n",
       "          0,   0,   0,   0,   0,   0,   0],\n",
       "       [  0,   0,   0,   0,   0, 255, 255, 255, 255,   0,   0,   0,   0,\n",
       "          0,   0,   0,   0,   0,   0,   0],\n",
       "       [  0,   0,   0,   0,   0, 255, 255, 255, 255,   0,   0,   0,   0,\n",
       "          0,   0,   0,   0,   0,   0,   0],\n",
       "       [  0,   0,   0,   0,   0, 255, 255, 255,   0,   0,   0,   0,   0,\n",
       "          0,   0,   0,   0,   0,   0,   0],\n",
       "       [  0,   0,   0,   0, 255, 255, 255, 255,   0,   0,   0,   0,   0,\n",
       "          0,   0,   0,   0,   0,   0,   0],\n",
       "       [  0,   0,   0,   0, 255, 255, 255, 255,   0,   0,   0,   0,   0,\n",
       "          0,   0,   0,   0,   0,   0,   0],\n",
       "       [  0,   0,   0,   0, 255, 255, 255,   0,   0,   0,   0,   0,   0,\n",
       "          0,   0,   0,   0,   0,   0,   0],\n",
       "       [  0,   0,   0,   0,   0, 255, 255,   0,   0,   0,   0,   0,   0,\n",
       "          0,   0,   0,   0,   0,   0,   0]], dtype=uint8)"
      ]
     },
     "execution_count": 91,
     "metadata": {},
     "output_type": "execute_result"
    }
   ],
   "source": [
    "dataset[\"Data\"][:,0][0]"
   ]
  },
  {
   "cell_type": "code",
   "execution_count": 92,
   "id": "95a80ae4",
   "metadata": {},
   "outputs": [
    {
     "data": {
      "text/plain": [
       "(60000,)"
      ]
     },
     "execution_count": 92,
     "metadata": {},
     "output_type": "execute_result"
    }
   ],
   "source": [
    "np.squeeze(dataset[\"Data\"]).shape"
   ]
  },
  {
   "cell_type": "code",
   "execution_count": 93,
   "id": "14c0a40f",
   "metadata": {},
   "outputs": [],
   "source": [
    "data = np.squeeze(dataset[\"Data\"])[17]"
   ]
  },
  {
   "cell_type": "code",
   "execution_count": 94,
   "id": "71940b09",
   "metadata": {},
   "outputs": [
    {
     "data": {
      "text/plain": [
       "<matplotlib.image.AxesImage at 0x229b4cfa5f0>"
      ]
     },
     "execution_count": 94,
     "metadata": {},
     "output_type": "execute_result"
    },
    {
     "data": {
      "image/png": "[encoded data removed]",
      "text/plain": [
       "<Figure size 640x480 with 1 Axes>"
      ]
     },
     "metadata": {},
     "output_type": "display_data"
    }
   ],
   "source": [
    "plt.imshow(data, cmap= \"gray\")"
   ]
  },
  {
   "cell_type": "code",
   "execution_count": 95,
   "id": "e266819d",
   "metadata": {},
   "outputs": [],
   "source": [
    "lbl = np.squeeze(dataset[\"labels\"])[17]"
   ]
  },
  {
   "cell_type": "code",
   "execution_count": 96,
   "id": "2ce73dc6",
   "metadata": {},
   "outputs": [
    {
     "data": {
      "text/plain": [
       "np.uint8(3)"
      ]
     },
     "execution_count": 96,
     "metadata": {},
     "output_type": "execute_result"
    }
   ],
   "source": [
    "lbl"
   ]
  },
  {
   "cell_type": "code",
   "execution_count": 97,
   "id": "4babc0c8",
   "metadata": {},
   "outputs": [],
   "source": [
    "X_train = np.squeeze(dataset[\"Data\"][:6000])\n",
    "Y_train = np.squeeze(dataset[\"labels\"][:6000])"
   ]
  },
  {
   "cell_type": "code",
   "execution_count": 98,
   "id": "f7bab5cf",
   "metadata": {},
   "outputs": [],
   "source": [
    "x_test = np.squeeze(dataset[\"Data\"][8000:10000])\n",
    "y_test = np.squeeze(dataset[\"labels\"][8000:10000])"
   ]
  },
  {
   "cell_type": "code",
   "execution_count": 99,
   "id": "1ef80cc0",
   "metadata": {},
   "outputs": [],
   "source": [
    "x_train_10by10  = [cv2.resize(img, dsize=(10, 10)) for img in X_train]\n",
    "x_test_10by10   = [cv2.resize(img, dsize=(10, 10)) for img in x_test]"
   ]
  },
  {
   "cell_type": "code",
   "execution_count": 100,
   "id": "07c531c2",
   "metadata": {},
   "outputs": [
    {
     "data": {
      "image/png": "[encoded data removed]",
      "text/plain": [
       "<Figure size 640x480 with 1 Axes>"
      ]
     },
     "metadata": {},
     "output_type": "display_data"
    }
   ],
   "source": [
    "in_image = x_train_10by10[17]\n",
    "plt.imshow(in_image, cmap=\"gray\")\n",
    "plt.show()"
   ]
  },
  {
   "cell_type": "code",
   "execution_count": 101,
   "id": "ebb2baa6",
   "metadata": {},
   "outputs": [],
   "source": [
    "x_train = np.reshape(x_train_10by10, [-1, 100])\n",
    "x_test = np.reshape(x_test_10by10, [-1, 100])"
   ]
  },
  {
   "cell_type": "code",
   "execution_count": 102,
   "id": "a6ed368d",
   "metadata": {},
   "outputs": [
    {
     "data": {
      "text/plain": [
       "(6000, 100)"
      ]
     },
     "execution_count": 102,
     "metadata": {},
     "output_type": "execute_result"
    }
   ],
   "source": [
    "x_train.shape"
   ]
  },
  {
   "cell_type": "code",
   "execution_count": 103,
   "id": "87215ec4",
   "metadata": {},
   "outputs": [
    {
     "data": {
      "text/plain": [
       "(2000, 100)"
      ]
     },
     "execution_count": 103,
     "metadata": {},
     "output_type": "execute_result"
    }
   ],
   "source": [
    "x_test.shape"
   ]
  },
  {
   "cell_type": "code",
   "execution_count": 104,
   "id": "230f85b1",
   "metadata": {},
   "outputs": [],
   "source": [
    "from sklearn.neighbors import KNeighborsClassifier"
   ]
  },
  {
   "cell_type": "code",
   "execution_count": 105,
   "id": "7dee4714",
   "metadata": {},
   "outputs": [],
   "source": [
    "knn = KNeighborsClassifier(n_neighbors=3)"
   ]
  },
  {
   "cell_type": "code",
   "execution_count": 106,
   "id": "663c2dd4",
   "metadata": {},
   "outputs": [
    {
     "data": {
      "text/html": [
       "<style>#sk-container-id-2 {\n",
       "  /* Definition of color scheme common for light and dark mode */\n",
       "  --sklearn-color-text: #000;\n",
       "  --sklearn-color-text-muted: #666;\n",
       "  --sklearn-color-line: gray;\n",
       "  /* Definition of color scheme for unfitted estimators */\n",
       "  --sklearn-color-unfitted-level-0: #fff5e6;\n",
       "  --sklearn-color-unfitted-level-1: #f6e4d2;\n",
       "  --sklearn-color-unfitted-level-2: #ffe0b3;\n",
       "  --sklearn-color-unfitted-level-3: chocolate;\n",
       "  /* Definition of color scheme for fitted estimators */\n",
       "  --sklearn-color-fitted-level-0: #f0f8ff;\n",
       "  --sklearn-color-fitted-level-1: #d4ebff;\n",
       "  --sklearn-color-fitted-level-2: #b3dbfd;\n",
       "  --sklearn-color-fitted-level-3: cornflowerblue;\n",
       "\n",
       "  /* Specific color for light theme */\n",
       "  --sklearn-color-text-on-default-background: var(--sg-text-color, var(--theme-code-foreground, var(--jp-content-font-color1, black)));\n",
       "  --sklearn-color-background: var(--sg-background-color, var(--theme-background, var(--jp-layout-color0, white)));\n",
       "  --sklearn-color-border-box: var(--sg-text-color, var(--theme-code-foreground, var(--jp-content-font-color1, black)));\n",
       "  --sklearn-color-icon: #696969;\n",
       "\n",
       "  @media (prefers-color-scheme: dark) {\n",
       "    /* Redefinition of color scheme for dark theme */\n",
       "    --sklearn-color-text-on-default-background: var(--sg-text-color, var(--theme-code-foreground, var(--jp-content-font-color1, white)));\n",
       "    --sklearn-color-background: var(--sg-background-color, var(--theme-background, var(--jp-layout-color0, #111)));\n",
       "    --sklearn-color-border-box: var(--sg-text-color, var(--theme-code-foreground, var(--jp-content-font-color1, white)));\n",
       "    --sklearn-color-icon: #878787;\n",
       "  }\n",
       "}\n",
       "\n",
       "#sk-container-id-2 {\n",
       "  color: var(--sklearn-color-text);\n",
       "}\n",
       "\n",
       "#sk-container-id-2 pre {\n",
       "  padding: 0;\n",
       "}\n",
       "\n",
       "#sk-container-id-2 input.sk-hidden--visually {\n",
       "  border: 0;\n",
       "  clip: rect(1px 1px 1px 1px);\n",
       "  clip: rect(1px, 1px, 1px, 1px);\n",
       "  height: 1px;\n",
       "  margin: -1px;\n",
       "  overflow: hidden;\n",
       "  padding: 0;\n",
       "  position: absolute;\n",
       "  width: 1px;\n",
       "}\n",
       "\n",
       "#sk-container-id-2 div.sk-dashed-wrapped {\n",
       "  border: 1px dashed var(--sklearn-color-line);\n",
       "  margin: 0 0.4em 0.5em 0.4em;\n",
       "  box-sizing: border-box;\n",
       "  padding-bottom: 0.4em;\n",
       "  background-color: var(--sklearn-color-background);\n",
       "}\n",
       "\n",
       "#sk-container-id-2 div.sk-container {\n",
       "  /* jupyter's `normalize.less` sets `[hidden] { display: none; }`\n",
       "     but bootstrap.min.css set `[hidden] { display: none !important; }`\n",
       "     so we also need the `!important` here to be able to override the\n",
       "     default hidden behavior on the sphinx rendered scikit-learn.org.\n",
       "     See: https://github.com/scikit-learn/scikit-learn/issues/21755 */\n",
       "  display: inline-block !important;\n",
       "  position: relative;\n",
       "}\n",
       "\n",
       "#sk-container-id-2 div.sk-text-repr-fallback {\n",
       "  display: none;\n",
       "}\n",
       "\n",
       "div.sk-parallel-item,\n",
       "div.sk-serial,\n",
       "div.sk-item {\n",
       "  /* draw centered vertical line to link estimators */\n",
       "  background-image: linear-gradient(var(--sklearn-color-text-on-default-background), var(--sklearn-color-text-on-default-background));\n",
       "  background-size: 2px 100%;\n",
       "  background-repeat: no-repeat;\n",
       "  background-position: center center;\n",
       "}\n",
       "\n",
       "/* Parallel-specific style estimator block */\n",
       "\n",
       "#sk-container-id-2 div.sk-parallel-item::after {\n",
       "  content: \"\";\n",
       "  width: 100%;\n",
       "  border-bottom: 2px solid var(--sklearn-color-text-on-default-background);\n",
       "  flex-grow: 1;\n",
       "}\n",
       "\n",
       "#sk-container-id-2 div.sk-parallel {\n",
       "  display: flex;\n",
       "  align-items: stretch;\n",
       "  justify-content: center;\n",
       "  background-color: var(--sklearn-color-background);\n",
       "  position: relative;\n",
       "}\n",
       "\n",
       "#sk-container-id-2 div.sk-parallel-item {\n",
       "  display: flex;\n",
       "  flex-direction: column;\n",
       "}\n",
       "\n",
       "#sk-container-id-2 div.sk-parallel-item:first-child::after {\n",
       "  align-self: flex-end;\n",
       "  width: 50%;\n",
       "}\n",
       "\n",
       "#sk-container-id-2 div.sk-parallel-item:last-child::after {\n",
       "  align-self: flex-start;\n",
       "  width: 50%;\n",
       "}\n",
       "\n",
       "#sk-container-id-2 div.sk-parallel-item:only-child::after {\n",
       "  width: 0;\n",
       "}\n",
       "\n",
       "/* Serial-specific style estimator block */\n",
       "\n",
       "#sk-container-id-2 div.sk-serial {\n",
       "  display: flex;\n",
       "  flex-direction: column;\n",
       "  align-items: center;\n",
       "  background-color: var(--sklearn-color-background);\n",
       "  padding-right: 1em;\n",
       "  padding-left: 1em;\n",
       "}\n",
       "\n",
       "\n",
       "/* Toggleable style: style used for estimator/Pipeline/ColumnTransformer box that is\n",
       "clickable and can be expanded/collapsed.\n",
       "- Pipeline and ColumnTransformer use this feature and define the default style\n",
       "- Estimators will overwrite some part of the style using the `sk-estimator` class\n",
       "*/\n",
       "\n",
       "/* Pipeline and ColumnTransformer style (default) */\n",
       "\n",
       "#sk-container-id-2 div.sk-toggleable {\n",
       "  /* Default theme specific background. It is overwritten whether we have a\n",
       "  specific estimator or a Pipeline/ColumnTransformer */\n",
       "  background-color: var(--sklearn-color-background);\n",
       "}\n",
       "\n",
       "/* Toggleable label */\n",
       "#sk-container-id-2 label.sk-toggleable__label {\n",
       "  cursor: pointer;\n",
       "  display: flex;\n",
       "  width: 100%;\n",
       "  margin-bottom: 0;\n",
       "  padding: 0.5em;\n",
       "  box-sizing: border-box;\n",
       "  text-align: center;\n",
       "  align-items: start;\n",
       "  justify-content: space-between;\n",
       "  gap: 0.5em;\n",
       "}\n",
       "\n",
       "#sk-container-id-2 label.sk-toggleable__label .caption {\n",
       "  font-size: 0.6rem;\n",
       "  font-weight: lighter;\n",
       "  color: var(--sklearn-color-text-muted);\n",
       "}\n",
       "\n",
       "#sk-container-id-2 label.sk-toggleable__label-arrow:before {\n",
       "  /* Arrow on the left of the label */\n",
       "  content: \"▸\";\n",
       "  float: left;\n",
       "  margin-right: 0.25em;\n",
       "  color: var(--sklearn-color-icon);\n",
       "}\n",
       "\n",
       "#sk-container-id-2 label.sk-toggleable__label-arrow:hover:before {\n",
       "  color: var(--sklearn-color-text);\n",
       "}\n",
       "\n",
       "/* Toggleable content - dropdown */\n",
       "\n",
       "#sk-container-id-2 div.sk-toggleable__content {\n",
       "  max-height: 0;\n",
       "  max-width: 0;\n",
       "  overflow: hidden;\n",
       "  text-align: left;\n",
       "  /* unfitted */\n",
       "  background-color: var(--sklearn-color-unfitted-level-0);\n",
       "}\n",
       "\n",
       "#sk-container-id-2 div.sk-toggleable__content.fitted {\n",
       "  /* fitted */\n",
       "  background-color: var(--sklearn-color-fitted-level-0);\n",
       "}\n",
       "\n",
       "#sk-container-id-2 div.sk-toggleable__content pre {\n",
       "  margin: 0.2em;\n",
       "  border-radius: 0.25em;\n",
       "  color: var(--sklearn-color-text);\n",
       "  /* unfitted */\n",
       "  background-color: var(--sklearn-color-unfitted-level-0);\n",
       "}\n",
       "\n",
       "#sk-container-id-2 div.sk-toggleable__content.fitted pre {\n",
       "  /* unfitted */\n",
       "  background-color: var(--sklearn-color-fitted-level-0);\n",
       "}\n",
       "\n",
       "#sk-container-id-2 input.sk-toggleable__control:checked~div.sk-toggleable__content {\n",
       "  /* Expand drop-down */\n",
       "  max-height: 200px;\n",
       "  max-width: 100%;\n",
       "  overflow: auto;\n",
       "}\n",
       "\n",
       "#sk-container-id-2 input.sk-toggleable__control:checked~label.sk-toggleable__label-arrow:before {\n",
       "  content: \"▾\";\n",
       "}\n",
       "\n",
       "/* Pipeline/ColumnTransformer-specific style */\n",
       "\n",
       "#sk-container-id-2 div.sk-label input.sk-toggleable__control:checked~label.sk-toggleable__label {\n",
       "  color: var(--sklearn-color-text);\n",
       "  background-color: var(--sklearn-color-unfitted-level-2);\n",
       "}\n",
       "\n",
       "#sk-container-id-2 div.sk-label.fitted input.sk-toggleable__control:checked~label.sk-toggleable__label {\n",
       "  background-color: var(--sklearn-color-fitted-level-2);\n",
       "}\n",
       "\n",
       "/* Estimator-specific style */\n",
       "\n",
       "/* Colorize estimator box */\n",
       "#sk-container-id-2 div.sk-estimator input.sk-toggleable__control:checked~label.sk-toggleable__label {\n",
       "  /* unfitted */\n",
       "  background-color: var(--sklearn-color-unfitted-level-2);\n",
       "}\n",
       "\n",
       "#sk-container-id-2 div.sk-estimator.fitted input.sk-toggleable__control:checked~label.sk-toggleable__label {\n",
       "  /* fitted */\n",
       "  background-color: var(--sklearn-color-fitted-level-2);\n",
       "}\n",
       "\n",
       "#sk-container-id-2 div.sk-label label.sk-toggleable__label,\n",
       "#sk-container-id-2 div.sk-label label {\n",
       "  /* The background is the default theme color */\n",
       "  color: var(--sklearn-color-text-on-default-background);\n",
       "}\n",
       "\n",
       "/* On hover, darken the color of the background */\n",
       "#sk-container-id-2 div.sk-label:hover label.sk-toggleable__label {\n",
       "  color: var(--sklearn-color-text);\n",
       "  background-color: var(--sklearn-color-unfitted-level-2);\n",
       "}\n",
       "\n",
       "/* Label box, darken color on hover, fitted */\n",
       "#sk-container-id-2 div.sk-label.fitted:hover label.sk-toggleable__label.fitted {\n",
       "  color: var(--sklearn-color-text);\n",
       "  background-color: var(--sklearn-color-fitted-level-2);\n",
       "}\n",
       "\n",
       "/* Estimator label */\n",
       "\n",
       "#sk-container-id-2 div.sk-label label {\n",
       "  font-family: monospace;\n",
       "  font-weight: bold;\n",
       "  display: inline-block;\n",
       "  line-height: 1.2em;\n",
       "}\n",
       "\n",
       "#sk-container-id-2 div.sk-label-container {\n",
       "  text-align: center;\n",
       "}\n",
       "\n",
       "/* Estimator-specific */\n",
       "#sk-container-id-2 div.sk-estimator {\n",
       "  font-family: monospace;\n",
       "  border: 1px dotted var(--sklearn-color-border-box);\n",
       "  border-radius: 0.25em;\n",
       "  box-sizing: border-box;\n",
       "  margin-bottom: 0.5em;\n",
       "  /* unfitted */\n",
       "  background-color: var(--sklearn-color-unfitted-level-0);\n",
       "}\n",
       "\n",
       "#sk-container-id-2 div.sk-estimator.fitted {\n",
       "  /* fitted */\n",
       "  background-color: var(--sklearn-color-fitted-level-0);\n",
       "}\n",
       "\n",
       "/* on hover */\n",
       "#sk-container-id-2 div.sk-estimator:hover {\n",
       "  /* unfitted */\n",
       "  background-color: var(--sklearn-color-unfitted-level-2);\n",
       "}\n",
       "\n",
       "#sk-container-id-2 div.sk-estimator.fitted:hover {\n",
       "  /* fitted */\n",
       "  background-color: var(--sklearn-color-fitted-level-2);\n",
       "}\n",
       "\n",
       "/* Specification for estimator info (e.g. \"i\" and \"?\") */\n",
       "\n",
       "/* Common style for \"i\" and \"?\" */\n",
       "\n",
       ".sk-estimator-doc-link,\n",
       "a:link.sk-estimator-doc-link,\n",
       "a:visited.sk-estimator-doc-link {\n",
       "  float: right;\n",
       "  font-size: smaller;\n",
       "  line-height: 1em;\n",
       "  font-family: monospace;\n",
       "  background-color: var(--sklearn-color-background);\n",
       "  border-radius: 1em;\n",
       "  height: 1em;\n",
       "  width: 1em;\n",
       "  text-decoration: none !important;\n",
       "  margin-left: 0.5em;\n",
       "  text-align: center;\n",
       "  /* unfitted */\n",
       "  border: var(--sklearn-color-unfitted-level-1) 1pt solid;\n",
       "  color: var(--sklearn-color-unfitted-level-1);\n",
       "}\n",
       "\n",
       ".sk-estimator-doc-link.fitted,\n",
       "a:link.sk-estimator-doc-link.fitted,\n",
       "a:visited.sk-estimator-doc-link.fitted {\n",
       "  /* fitted */\n",
       "  border: var(--sklearn-color-fitted-level-1) 1pt solid;\n",
       "  color: var(--sklearn-color-fitted-level-1);\n",
       "}\n",
       "\n",
       "/* On hover */\n",
       "div.sk-estimator:hover .sk-estimator-doc-link:hover,\n",
       ".sk-estimator-doc-link:hover,\n",
       "div.sk-label-container:hover .sk-estimator-doc-link:hover,\n",
       ".sk-estimator-doc-link:hover {\n",
       "  /* unfitted */\n",
       "  background-color: var(--sklearn-color-unfitted-level-3);\n",
       "  color: var(--sklearn-color-background);\n",
       "  text-decoration: none;\n",
       "}\n",
       "\n",
       "div.sk-estimator.fitted:hover .sk-estimator-doc-link.fitted:hover,\n",
       ".sk-estimator-doc-link.fitted:hover,\n",
       "div.sk-label-container:hover .sk-estimator-doc-link.fitted:hover,\n",
       ".sk-estimator-doc-link.fitted:hover {\n",
       "  /* fitted */\n",
       "  background-color: var(--sklearn-color-fitted-level-3);\n",
       "  color: var(--sklearn-color-background);\n",
       "  text-decoration: none;\n",
       "}\n",
       "\n",
       "/* Span, style for the box shown on hovering the info icon */\n",
       ".sk-estimator-doc-link span {\n",
       "  display: none;\n",
       "  z-index: 9999;\n",
       "  position: relative;\n",
       "  font-weight: normal;\n",
       "  right: .2ex;\n",
       "  padding: .5ex;\n",
       "  margin: .5ex;\n",
       "  width: min-content;\n",
       "  min-width: 20ex;\n",
       "  max-width: 50ex;\n",
       "  color: var(--sklearn-color-text);\n",
       "  box-shadow: 2pt 2pt 4pt #999;\n",
       "  /* unfitted */\n",
       "  background: var(--sklearn-color-unfitted-level-0);\n",
       "  border: .5pt solid var(--sklearn-color-unfitted-level-3);\n",
       "}\n",
       "\n",
       ".sk-estimator-doc-link.fitted span {\n",
       "  /* fitted */\n",
       "  background: var(--sklearn-color-fitted-level-0);\n",
       "  border: var(--sklearn-color-fitted-level-3);\n",
       "}\n",
       "\n",
       ".sk-estimator-doc-link:hover span {\n",
       "  display: block;\n",
       "}\n",
       "\n",
       "/* \"?\"-specific style due to the `<a>` HTML tag */\n",
       "\n",
       "#sk-container-id-2 a.estimator_doc_link {\n",
       "  float: right;\n",
       "  font-size: 1rem;\n",
       "  line-height: 1em;\n",
       "  font-family: monospace;\n",
       "  background-color: var(--sklearn-color-background);\n",
       "  border-radius: 1rem;\n",
       "  height: 1rem;\n",
       "  width: 1rem;\n",
       "  text-decoration: none;\n",
       "  /* unfitted */\n",
       "  color: var(--sklearn-color-unfitted-level-1);\n",
       "  border: var(--sklearn-color-unfitted-level-1) 1pt solid;\n",
       "}\n",
       "\n",
       "#sk-container-id-2 a.estimator_doc_link.fitted {\n",
       "  /* fitted */\n",
       "  border: var(--sklearn-color-fitted-level-1) 1pt solid;\n",
       "  color: var(--sklearn-color-fitted-level-1);\n",
       "}\n",
       "\n",
       "/* On hover */\n",
       "#sk-container-id-2 a.estimator_doc_link:hover {\n",
       "  /* unfitted */\n",
       "  background-color: var(--sklearn-color-unfitted-level-3);\n",
       "  color: var(--sklearn-color-background);\n",
       "  text-decoration: none;\n",
       "}\n",
       "\n",
       "#sk-container-id-2 a.estimator_doc_link.fitted:hover {\n",
       "  /* fitted */\n",
       "  background-color: var(--sklearn-color-fitted-level-3);\n",
       "}\n",
       "</style><div id=\"sk-container-id-2\" class=\"sk-top-container\"><div class=\"sk-text-repr-fallback\"><pre>KNeighborsClassifier(n_neighbors=3)</pre><b>In a Jupyter environment, please rerun this cell to show the HTML representation or trust the notebook. <br />On GitHub, the HTML representation is unable to render, please try loading this page with nbviewer.org.</b></div><div class=\"sk-container\" hidden><div class=\"sk-item\"><div class=\"sk-estimator fitted sk-toggleable\"><input class=\"sk-toggleable__control sk-hidden--visually\" id=\"sk-estimator-id-2\" type=\"checkbox\" checked><label for=\"sk-estimator-id-2\" class=\"sk-toggleable__label fitted sk-toggleable__label-arrow\"><div><div>KNeighborsClassifier</div></div><div><a class=\"sk-estimator-doc-link fitted\" rel=\"noreferrer\" target=\"_blank\" href=\"https://scikit-learn.org/1.6/modules/generated/sklearn.neighbors.KNeighborsClassifier.html\">?<span>Documentation for KNeighborsClassifier</span></a><span class=\"sk-estimator-doc-link fitted\">i<span>Fitted</span></span></div></label><div class=\"sk-toggleable__content fitted\"><pre>KNeighborsClassifier(n_neighbors=3)</pre></div> </div></div></div></div>"
      ],
      "text/plain": [
       "KNeighborsClassifier(n_neighbors=3)"
      ]
     },
     "execution_count": 106,
     "metadata": {},
     "output_type": "execute_result"
    }
   ],
   "source": [
    "knn.fit(x_train, Y_train)"
   ]
  },
  {
   "cell_type": "code",
   "execution_count": 107,
   "id": "f27b0ad9",
   "metadata": {},
   "outputs": [],
   "source": [
    "pred_lbl = knn.predict(x_test)"
   ]
  },
  {
   "cell_type": "code",
   "execution_count": 108,
   "id": "0b5cf2f3",
   "metadata": {},
   "outputs": [
    {
     "data": {
      "text/plain": [
       "array([8, 2, 2, ..., 2, 2, 8], shape=(2000,), dtype=uint8)"
      ]
     },
     "execution_count": 108,
     "metadata": {},
     "output_type": "execute_result"
    }
   ],
   "source": [
    "pred_lbl"
   ]
  },
  {
   "cell_type": "code",
   "execution_count": 109,
   "id": "3e14cc89",
   "metadata": {},
   "outputs": [
    {
     "data": {
      "text/plain": [
       "np.uint8(8)"
      ]
     },
     "execution_count": 109,
     "metadata": {},
     "output_type": "execute_result"
    }
   ],
   "source": [
    "pred_lbl[0]"
   ]
  },
  {
   "cell_type": "code",
   "execution_count": 110,
   "id": "0afd8111",
   "metadata": {},
   "outputs": [
    {
     "data": {
      "text/plain": [
       "np.uint8(8)"
      ]
     },
     "execution_count": 110,
     "metadata": {},
     "output_type": "execute_result"
    }
   ],
   "source": [
    "y_test[0]"
   ]
  },
  {
   "cell_type": "code",
   "execution_count": 111,
   "id": "54ec404c",
   "metadata": {},
   "outputs": [
    {
     "data": {
      "text/plain": [
       "0.9735"
      ]
     },
     "execution_count": 111,
     "metadata": {},
     "output_type": "execute_result"
    }
   ],
   "source": [
    "knn.score(x_test, y_test)"
   ]
  },
  {
   "cell_type": "code",
   "execution_count": 112,
   "id": "5178a09b",
   "metadata": {},
   "outputs": [],
   "source": [
    "image = np.squeeze(dataset[\"Data\"])[9000]"
   ]
  },
  {
   "cell_type": "code",
   "execution_count": 113,
   "id": "ccdb3754",
   "metadata": {},
   "outputs": [
    {
     "data": {
      "text/plain": [
       "<matplotlib.image.AxesImage at 0x229b0266950>"
      ]
     },
     "execution_count": 113,
     "metadata": {},
     "output_type": "execute_result"
    },
    {
     "data": {
      "image/png": "[encoded data removed]",
      "text/plain": [
       "<Figure size 640x480 with 1 Axes>"
      ]
     },
     "metadata": {},
     "output_type": "display_data"
    }
   ],
   "source": [
    "plt.imshow(image, cmap=\"gray\")"
   ]
  },
  {
   "cell_type": "code",
   "execution_count": 114,
   "id": "af92d38b",
   "metadata": {},
   "outputs": [],
   "source": [
    "image = cv2.resize(image, (10 , 10))"
   ]
  },
  {
   "cell_type": "code",
   "execution_count": 115,
   "id": "3c922c2b",
   "metadata": {},
   "outputs": [],
   "source": [
    "image = np.reshape(image, [1, 100])"
   ]
  },
  {
   "cell_type": "code",
   "execution_count": 116,
   "id": "8270b1e3",
   "metadata": {},
   "outputs": [
    {
     "data": {
      "text/plain": [
       "(1, 100)"
      ]
     },
     "execution_count": 116,
     "metadata": {},
     "output_type": "execute_result"
    }
   ],
   "source": [
    "image.shape"
   ]
  },
  {
   "cell_type": "code",
   "execution_count": 117,
   "id": "656238d0",
   "metadata": {},
   "outputs": [
    {
     "data": {
      "text/plain": [
       "array([9], dtype=uint8)"
      ]
     },
     "execution_count": 117,
     "metadata": {},
     "output_type": "execute_result"
    }
   ],
   "source": [
    "knn.predict(image)"
   ]
  }
 ],
 "metadata": {
  "kernelspec": {
   "display_name": "ml_course_403_2",
   "language": "python",
   "name": "python3"
  },
  "language_info": {
   "codemirror_mode": {
    "name": "ipython",
    "version": 3
   },
   "file_extension": ".py",
   "mimetype": "text/x-python",
   "name": "python",
   "nbconvert_exporter": "python",
   "pygments_lexer": "ipython3",
   "version": "3.10.16"
  }
 },
 "nbformat": 4,
 "nbformat_minor": 5
}
