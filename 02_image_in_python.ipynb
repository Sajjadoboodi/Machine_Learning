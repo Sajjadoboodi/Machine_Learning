{
 "cells": [
  {
   "cell_type": "code",
   "execution_count": null,
   "id": "c5f4426b",
   "metadata": {},
   "outputs": [
    {
     "ename": "",
     "evalue": "",
     "output_type": "error",
     "traceback": [
      "\u001b[1;31mFailed to start the Kernel. \n",
      "\u001b[1;31mzmq.error.ZMQError: Address in use (addr='tcp://127.0.0.1:9002'). \n",
      "\u001b[1;31mView Jupyter <a href='command:jupyter.viewOutput'>log</a> for further details."
     ]
    }
   ],
   "source": [
    "import matplotlib.pyplot as plt\n",
    "import numpy as np"
   ]
  },
  {
   "cell_type": "code",
   "execution_count": null,
   "id": "3fdd5c9f",
   "metadata": {},
   "outputs": [],
   "source": [
    "pic_arry = np.array(plt.imread(r\"C:\\Users\\sajad\\VSCode\\Machine_Learning\\Machine_Learning\\into2image.jpeg\"))"
   ]
  },
  {
   "cell_type": "code",
   "execution_count": null,
   "id": "ccef3951",
   "metadata": {},
   "outputs": [],
   "source": [
    "pic_arry.shape"
   ]
  },
  {
   "cell_type": "code",
   "execution_count": null,
   "id": "21887c14",
   "metadata": {},
   "outputs": [],
   "source": [
    "plt.imshow(pic_arry)\n",
    "plt.show()"
   ]
  },
  {
   "cell_type": "code",
   "execution_count": null,
   "id": "86948f2a",
   "metadata": {},
   "outputs": [],
   "source": [
    "pic_arry[350:1500,1000:2750,:] = 255"
   ]
  },
  {
   "cell_type": "code",
   "execution_count": null,
   "id": "c82be5c4",
   "metadata": {},
   "outputs": [],
   "source": [
    "plt.imshow(pic_arry)\n"
   ]
  },
  {
   "cell_type": "code",
   "execution_count": null,
   "id": "b0bfc897",
   "metadata": {},
   "outputs": [],
   "source": [
    "pic_arry[:,:,1] = 255"
   ]
  },
  {
   "cell_type": "code",
   "execution_count": null,
   "id": "314b284b",
   "metadata": {},
   "outputs": [],
   "source": [
    "plt.imshow(pic_arry)"
   ]
  },
  {
   "cell_type": "code",
   "execution_count": null,
   "id": "c16680f7",
   "metadata": {},
   "outputs": [],
   "source": [
    "pic2_arry = np.array(plt.imread(r\"C:\\Users\\sajad\\VSCode\\Machine_Learning\\Machine_Learning\\into2image2.jpg\"))"
   ]
  },
  {
   "cell_type": "code",
   "execution_count": null,
   "id": "fb8e0211",
   "metadata": {},
   "outputs": [],
   "source": [
    "pic2_arry[:,:,1] = 0\n",
    "pic2_arry[:,:,2] = 0"
   ]
  },
  {
   "cell_type": "code",
   "execution_count": null,
   "id": "d8f3a9b4",
   "metadata": {},
   "outputs": [],
   "source": [
    "plt.imshow(pic2_arry)\n",
    "plt.show()"
   ]
  },
  {
   "cell_type": "code",
   "execution_count": null,
   "id": "585c5cee",
   "metadata": {},
   "outputs": [],
   "source": [
    "plt.imshow(pic2_arry, cmap=\"gray\")\n",
    "plt.show()"
   ]
  },
  {
   "cell_type": "code",
   "execution_count": null,
   "id": "b159ce13",
   "metadata": {},
   "outputs": [],
   "source": [
    "pic_gray1 = pic2_arry[:,:,0]//3 + pic2_arry[:,:,1]//3 + pic2_arry[:,:,2]//3"
   ]
  },
  {
   "cell_type": "code",
   "execution_count": null,
   "id": "705e8608",
   "metadata": {},
   "outputs": [],
   "source": [
    "pic_gray1.shape"
   ]
  },
  {
   "cell_type": "code",
   "execution_count": null,
   "id": "149086d5",
   "metadata": {},
   "outputs": [],
   "source": [
    "pic_gray1[132, 217]"
   ]
  },
  {
   "cell_type": "code",
   "execution_count": null,
   "id": "959895e6",
   "metadata": {},
   "outputs": [],
   "source": [
    "plt.imshow(pic_gray1)\n",
    "plt.show()"
   ]
  }
 ],
 "metadata": {
  "kernelspec": {
   "display_name": "ml_course_403_2",
   "language": "python",
   "name": "python3"
  },
  "language_info": {
   "codemirror_mode": {
    "name": "ipython",
    "version": 3
   },
   "file_extension": ".py",
   "mimetype": "text/x-python",
   "name": "python",
   "nbconvert_exporter": "python",
   "pygments_lexer": "ipython3",
   "version": "3.10.16"
  }
 },
 "nbformat": 4,
 "nbformat_minor": 5
}
